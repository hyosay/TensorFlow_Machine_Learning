{
  "nbformat": 4,
  "nbformat_minor": 0,
  "metadata": {
    "colab": {
      "name": "autoencoder.ipynb",
      "provenance": [],
      "private_outputs": true,
      "collapsed_sections": [],
      "authorship_tag": "ABX9TyOHq9/gIz08EylkA3fdaYPk",
      "include_colab_link": true
    },
    "kernelspec": {
      "name": "python3",
      "display_name": "Python 3"
    },
    "accelerator": "GPU"
  },
  "cells": [
    {
      "cell_type": "markdown",
      "metadata": {
        "id": "view-in-github",
        "colab_type": "text"
      },
      "source": [
        "<a href=\"https://colab.research.google.com/github/hyoseong-j/TensorFlow_Machine_Learning/blob/master/autoencoder.ipynb\" target=\"_parent\"><img src=\"https://colab.research.google.com/assets/colab-badge.svg\" alt=\"Open In Colab\"/></a>"
      ]
    },
    {
      "cell_type": "code",
      "metadata": {
        "id": "TUXso0mo8i6b"
      },
      "source": [
        "import tensorflow as tf\n",
        "from tensorflow.keras.layers import Input, Dense\n",
        "from tensorflow.keras.models import Model\n",
        "\n",
        "import matplotlib.pyplot as plt\n",
        "from mpl_toolkits.mplot3d import Axes3D\n",
        "from matplotlib import cm\n",
        "import numpy as np\n",
        "from IPython.display import Image\n",
        "\n",
        "tf.random.set_seed(1)\n",
        "np.random.seed(1)\n"
      ],
      "execution_count": null,
      "outputs": []
    },
    {
      "cell_type": "code",
      "metadata": {
        "id": "QVJ3rgou9WCN"
      },
      "source": [
        "(x_train, y_train), (x_test, y_test) = tf.keras.datasets.mnist.load_data()"
      ],
      "execution_count": null,
      "outputs": []
    },
    {
      "cell_type": "code",
      "metadata": {
        "id": "3zPJWsik9i-l"
      },
      "source": [
        "x_train = x_train.reshape(60000, 784)\n",
        "\n",
        "\n",
        "#xtest를 300개만 시각화 하겠다.\n",
        "x_test = x_test[:500]\n",
        "y_tset = y_test[:500]\n",
        "x_test = x_test.reshape(500, 784)\n",
        "\n",
        "x_train = x_train.astype('float32')\n",
        "x_test = x_test.astype('float32')\n",
        "gray_scale = 255\n",
        "x_train /= gray_scale\n",
        "x_test /= gray_scale"
      ],
      "execution_count": null,
      "outputs": []
    },
    {
      "cell_type": "code",
      "metadata": {
        "id": "fUzOxn1x98uO"
      },
      "source": [
        "Image(url= \"https://raw.githubusercontent.com/captainchargers/deeplearning/master/img/autoencoder2.png\", width=500, height=250)"
      ],
      "execution_count": null,
      "outputs": []
    },
    {
      "cell_type": "code",
      "metadata": {
        "id": "dKIUSumZApYS"
      },
      "source": [
        "input_img = Input(shape=(784,))\n",
        "#encoder\n",
        "encoder1 = Dense(128, activation= 'sigmoid')(input_img)\n",
        "encoder2 = Dense(3, activation= 'sigmoid')(encoder1)\n",
        "#decoder\n",
        "decoder1 = Dense(128, activation='sigmoid')(encoder2)\n",
        "decoder2 = Dense(784, activation='sigmoid')(decoder1)\n",
        "\n",
        "autoencoder = Model(inputs=input_img, outputs=decoder2)"
      ],
      "execution_count": null,
      "outputs": []
    },
    {
      "cell_type": "code",
      "metadata": {
        "id": "DNox6V7IB3sT"
      },
      "source": [
        "autoencoder.compile(optimizer= 'adam', loss= 'binary_crossentropy')"
      ],
      "execution_count": null,
      "outputs": []
    },
    {
      "cell_type": "code",
      "metadata": {
        "id": "NLgWMQ-ICJqm"
      },
      "source": [
        "autoencoder.fit(x_train, x_train,\n",
        "                epochs=20,\n",
        "                batch_size=32,\n",
        "                shuffle= True,\n",
        "                validation_data=(x_test, x_test)\n",
        "                )"
      ],
      "execution_count": null,
      "outputs": []
    },
    {
      "cell_type": "code",
      "metadata": {
        "id": "JqK3L1xtF8Iu"
      },
      "source": [
        "autoencoder.evaluate(x_train, x_train)\n",
        "autoencoder.predict(x_test)"
      ],
      "execution_count": null,
      "outputs": []
    },
    {
      "cell_type": "code",
      "metadata": {
        "id": "T9HYoUUsDYT9"
      },
      "source": [
        "encoder = Model(inputs= input_img, outputs= encoder2)\n",
        "'''\n",
        "encoded_input = Input(shape=(3,))\n",
        "decoder_layer1 = autoencoder.layers[-2]\n",
        "decoder_layer2 = autoencoder.layers[-1]\n",
        "decoder = Model(inputs=encoded_input, outputs=decoder_layer2(decoder_layer1(encoded_input)))'''"
      ],
      "execution_count": null,
      "outputs": []
    },
    {
      "cell_type": "code",
      "metadata": {
        "id": "MuvFkQmnEAT0"
      },
      "source": [
        "latent_vector = encoder.predict(x_test)\n",
        "encoder.predict(x_test)\n"
      ],
      "execution_count": null,
      "outputs": []
    },
    {
      "cell_type": "code",
      "metadata": {
        "id": "_zp_08gLEM-L"
      },
      "source": [
        "from pylab import rcParams\n",
        "rcParams['figure.figsize'] = 10, 8\n",
        "\n",
        "fig = plt.figure(1)\n",
        "ax = Axes3D(fig)\n",
        "\n",
        "xs = latent_vector[:, 0]\n",
        "ys = latent_vector[:, 1]\n",
        "zs = latent_vector[:, 2]\n",
        "\n",
        "color=['red','green','blue','lime','white','pink','aqua','violet','gold','coral']\n",
        "\n",
        "for x, y, z, label in zip(xs, ys, zs, y_test):\n",
        "    c = color[int(label)]\n",
        "    ax.text(x, y, z, label, backgroundcolor=c)\n",
        "    \n",
        "ax.set_xlim(xs.min(), xs.max())\n",
        "ax.set_ylim(ys.min(), ys.max())\n",
        "ax.set_zlim(zs.min(), zs.max())\n",
        "\n",
        "plt.show()"
      ],
      "execution_count": null,
      "outputs": []
    },
    {
      "cell_type": "code",
      "metadata": {
        "id": "yeK1HA1SEQA1"
      },
      "source": [
        ""
      ],
      "execution_count": null,
      "outputs": []
    }
  ]
}