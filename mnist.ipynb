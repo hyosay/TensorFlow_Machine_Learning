{
  "nbformat": 4,
  "nbformat_minor": 0,
  "metadata": {
    "colab": {
      "name": "mnist.ipynb",
      "provenance": [],
      "private_outputs": true,
      "authorship_tag": "ABX9TyP2idqlVUJlscpPRGsTRe0g",
      "include_colab_link": true
    },
    "kernelspec": {
      "name": "python3",
      "display_name": "Python 3"
    },
    "accelerator": "GPU"
  },
  "cells": [
    {
      "cell_type": "markdown",
      "metadata": {
        "id": "view-in-github",
        "colab_type": "text"
      },
      "source": [
        "<a href=\"https://colab.research.google.com/github/hyoseong-j/TensorFlow_Machine_Learning/blob/master/mnist.ipynb\" target=\"_parent\"><img src=\"https://colab.research.google.com/assets/colab-badge.svg\" alt=\"Open In Colab\"/></a>"
      ]
    },
    {
      "cell_type": "code",
      "metadata": {
        "id": "zPJXwUnKo0UL"
      },
      "source": [
        "import tensorflow as tf\n",
        "from tensorflow.keras.datasets.mnist import load_data\n",
        "from tensorflow.keras.models import Sequential\n",
        "from tensorflow.keras.layers import Dense\n",
        "from tensorflow.keras.utils import to_categorical\n",
        "\n",
        "from sklearn.model_selection import train_test_split\n",
        "tf.random.set_seed(777)"
      ],
      "execution_count": null,
      "outputs": []
    },
    {
      "cell_type": "code",
      "metadata": {
        "id": "TBn1nCwhpeTN"
      },
      "source": [
        "(x_train, y_train),(x_test, y_test) = load_data(path='mnist.npz')"
      ],
      "execution_count": null,
      "outputs": []
    },
    {
      "cell_type": "code",
      "metadata": {
        "id": "prDSAxAvp6W6"
      },
      "source": [
        "x_train, x_val, y_train, y_val = train_test_split(x_train, y_train,\n",
        "                                                  test_size = 0.3,\n",
        "                                                  random_state = 777)\n",
        "num_x_train = x_train.shape[0]\n",
        "num_x_val = x_val.shape[0]\n",
        "num_x_test = x_test.shape[0]"
      ],
      "execution_count": null,
      "outputs": []
    },
    {
      "cell_type": "code",
      "metadata": {
        "id": "kNSZ0sl_qI2a"
      },
      "source": [
        "x_train = (x_train.reshape(num_x_train, 28 * 28)) / 255\n",
        "x_val = (x_val.reshape(num_x_val, 28 * 28)) / 255\n",
        "x_test = (x_test.reshape(num_x_test, 28 * 28)) / 255"
      ],
      "execution_count": null,
      "outputs": []
    },
    {
      "cell_type": "code",
      "metadata": {
        "id": "fbgBG6rAqO8X"
      },
      "source": [
        "y_train = to_categorical(y_train)\n",
        "y_val = to_categorical(y_val)\n",
        "y_test = to_categorical(y_test)"
      ],
      "execution_count": null,
      "outputs": []
    },
    {
      "cell_type": "code",
      "metadata": {
        "id": "7t_zxuuOqjxW"
      },
      "source": [
        "model = Sequential()\n",
        "model.add(Dense(64, activation= 'relu'))\n",
        "model.add(Dense(32, activation= 'relu'))\n",
        "model.add(Dense(10, activation= 'softmax'))"
      ],
      "execution_count": null,
      "outputs": []
    },
    {
      "cell_type": "code",
      "metadata": {
        "id": "lL0Xidbwr5Rk"
      },
      "source": [
        "model.compile(optimizer= 'adam',\n",
        "              loss = 'categorical_crossentropy',\n",
        "              metrics= ['acc'])"
      ],
      "execution_count": null,
      "outputs": []
    },
    {
      "cell_type": "code",
      "metadata": {
        "id": "oTn9V1JOu-Tt"
      },
      "source": [
        "import datetime\n",
        "%load_ext tensorboard\n",
        "\n",
        "log_dir = \"logs/fit/\" + datetime.datetime.now().strftime(\"%Y%m%d-%H%M%S\")\n",
        "tensorboard_callback = tf.keras.callbacks.TensorBoard(log_dir=log_dir, histogram_freq=1)\n"
      ],
      "execution_count": null,
      "outputs": []
    },
    {
      "cell_type": "code",
      "metadata": {
        "id": "IRwCqKjhsayq"
      },
      "source": [
        "model.fit(x_train, y_train, epochs=10, batch_size=32,\n",
        "          validation_data=(x_val, y_val),\n",
        "          callbacks= [tensorboard_callback])\n",
        "\n"
      ],
      "execution_count": null,
      "outputs": []
    },
    {
      "cell_type": "code",
      "metadata": {
        "id": "l6PeiAbDsqBV"
      },
      "source": [
        "\n",
        "print(model.predict(x_test[:3]))\n",
        "\n",
        "model.predict_classes(x_test[:3])"
      ],
      "execution_count": null,
      "outputs": []
    },
    {
      "cell_type": "code",
      "metadata": {
        "id": "j69LsZHLv6HA"
      },
      "source": [
        ""
      ],
      "execution_count": null,
      "outputs": []
    }
  ]
}