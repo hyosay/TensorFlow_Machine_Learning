{
  "nbformat": 4,
  "nbformat_minor": 0,
  "metadata": {
    "colab": {
      "name": "boston_housing.ipynb",
      "provenance": [],
      "private_outputs": true,
      "authorship_tag": "ABX9TyON478cnkTOPXN9GoClCNbc",
      "include_colab_link": true
    },
    "kernelspec": {
      "name": "python3",
      "display_name": "Python 3"
    },
    "accelerator": "GPU"
  },
  "cells": [
    {
      "cell_type": "markdown",
      "metadata": {
        "id": "view-in-github",
        "colab_type": "text"
      },
      "source": [
        "<a href=\"https://colab.research.google.com/github/hyoseong-j/TensorFlow_Machine_Learning/blob/master/boston_housing.ipynb\" target=\"_parent\"><img src=\"https://colab.research.google.com/assets/colab-badge.svg\" alt=\"Open In Colab\"/></a>"
      ]
    },
    {
      "cell_type": "code",
      "metadata": {
        "id": "76zvaQTrSGS3"
      },
      "source": [
        "from tensorflow.keras.datasets.boston_housing import load_data\n",
        "\n",
        "(x_train ,y_train), (x_test, y_test) = load_data(path='boston_housing.npz',\n",
        "                                                 test_split = 0.2,\n",
        "                                                 seed = 1)"
      ],
      "execution_count": null,
      "outputs": []
    },
    {
      "cell_type": "code",
      "metadata": {
        "id": "vpnGAyU-STkq"
      },
      "source": [
        "print(x_train.shape, y_train.shape, x_test.shape, y_test.shape)"
      ],
      "execution_count": null,
      "outputs": []
    },
    {
      "cell_type": "code",
      "metadata": {
        "id": "dSIf8tz-SNSf"
      },
      "source": [
        "import numpy as np\n",
        "from sklearn.model_selection import KFold\n",
        "mean = np.mean(x_train,axis = 0)\n",
        "std = np.std(x_train, axis= 0)\n",
        "\n",
        "x_train = (x_train - mean) / std\n",
        "x_test = (x_test - mean) / std\n",
        "\n",
        "from sklearn.model_selection import train_test_split\n",
        "x_train, x_val, y_train ,y_val = train_test_split(x_train, y_train,\n",
        "                                                  test_size = 0.33,\n",
        "                                                  random_state = 777)\n"
      ],
      "execution_count": null,
      "outputs": []
    },
    {
      "cell_type": "code",
      "metadata": {
        "id": "eGgPo1OcVJ8g"
      },
      "source": [
        ""
      ],
      "execution_count": null,
      "outputs": []
    },
    {
      "cell_type": "code",
      "metadata": {
        "id": "TRGnFHAHS97w"
      },
      "source": [
        "from tensorflow.keras.models import Sequential\n",
        "from tensorflow.keras.layers import Dense\n",
        "\n",
        "model = Sequential()\n",
        "model.add(Dense(128, activation= 'relu', input_shape= (13,)))\n",
        "model.add(Dense(64, activation= 'relu'))\n",
        "model.add(Dense(32, activation= 'relu'))\n",
        "model.add(Dense(1))"
      ],
      "execution_count": null,
      "outputs": []
    },
    {
      "cell_type": "code",
      "metadata": {
        "id": "EbUjCGmqTaZR"
      },
      "source": [
        "model.compile(optimizer = 'adam', loss= 'mse', metrics = ['mae'])"
      ],
      "execution_count": null,
      "outputs": []
    },
    {
      "cell_type": "code",
      "metadata": {
        "id": "bBjF2wkST2If"
      },
      "source": [
        "history = model.fit(x_train, y_train, epochs = 300,\n",
        "                    validation_data = (x_val, y_val))\n",
        "model.evaluate(x_test, y_test)"
      ],
      "execution_count": null,
      "outputs": []
    },
    {
      "cell_type": "code",
      "metadata": {
        "id": "SEkJvSEMUfid"
      },
      "source": [
        "a = model.predict(x_test[:60])\n",
        "print(np.min(a))\n",
        "print(np.min(y_test[0:60]))"
      ],
      "execution_count": null,
      "outputs": []
    },
    {
      "cell_type": "markdown",
      "metadata": {
        "id": "CFtEnT7Kbr8J"
      },
      "source": [
        "# 결론 :\n",
        "#최종 점수로 mean absolution error 2.2가 차이나므로 좋은 모델이 아님"
      ]
    },
    {
      "cell_type": "code",
      "metadata": {
        "id": "__uMwzglZ2Cx"
      },
      "source": [
        ""
      ],
      "execution_count": null,
      "outputs": []
    }
  ]
}