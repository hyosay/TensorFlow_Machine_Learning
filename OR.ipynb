{
  "nbformat": 4,
  "nbformat_minor": 0,
  "metadata": {
    "colab": {
      "name": "OR.ipynb",
      "provenance": [],
      "private_outputs": true,
      "collapsed_sections": [],
      "authorship_tag": "ABX9TyPcDY1mVirAmTwI5oFJi95g",
      "include_colab_link": true
    },
    "kernelspec": {
      "name": "python3",
      "display_name": "Python 3"
    },
    "accelerator": "GPU"
  },
  "cells": [
    {
      "cell_type": "markdown",
      "metadata": {
        "id": "view-in-github",
        "colab_type": "text"
      },
      "source": [
        "<a href=\"https://colab.research.google.com/github/hyoseong-j/TensorFlow_Machine_Learning/blob/master/OR.ipynb\" target=\"_parent\"><img src=\"https://colab.research.google.com/assets/colab-badge.svg\" alt=\"Open In Colab\"/></a>"
      ]
    },
    {
      "cell_type": "markdown",
      "metadata": {
        "id": "JnWCBitqotNu"
      },
      "source": [
        ""
      ]
    },
    {
      "cell_type": "markdown",
      "metadata": {
        "id": "UfHs8CgIovJV"
      },
      "source": [
        "# OR perceptron"
      ]
    },
    {
      "cell_type": "code",
      "metadata": {
        "id": "RvsZvDEG6_zh"
      },
      "source": [
        "import tensorflow as tf\n",
        "import numpy as np\n",
        "from tensorflow.keras.models import Sequential\n",
        "from tensorflow.keras.layers import Dense\n",
        "from tensorflow.keras.optimizers import RMSprop\n",
        "from tensorflow.keras.losses import mse\n",
        "import datetime\n",
        "tf.random.set_seed(777)\n",
        "x = np.array([[0, 0],[0, 1], [1, 0], [1, 1]])\n",
        "\n",
        "y = np.array([[0],[1],[1],[0]])\n",
        "\n",
        "model = Sequential()\n",
        "model.add(Dense(32, input_shape = (2, ), activation= 'relu'))\n",
        "model.add(Dense(1, activation= 'sigmoid'))\n",
        "model.compile(\n",
        "    \n",
        "        optimizer = RMSprop(),\n",
        "        loss = mse,\n",
        "        metrics = ['acc']\n",
        "              )\n",
        "\n",
        "model.fit(x, y, epochs = 100)\n",
        "\n"
      ],
      "execution_count": null,
      "outputs": []
    },
    {
      "cell_type": "code",
      "metadata": {
        "id": "j05OaDpHAxlS"
      },
      "source": [
        "model.get_weights()"
      ],
      "execution_count": null,
      "outputs": []
    },
    {
      "cell_type": "markdown",
      "metadata": {
        "id": "AIUFax7do-cg"
      },
      "source": [
        "# 경사 하강법"
      ]
    },
    {
      "cell_type": "code",
      "metadata": {
        "id": "YameXO_QkIVh"
      },
      "source": [
        "import numpy as np\n",
        "import matplotlib.pyplot as plt\n",
        "import math\n",
        "\n",
        "lr_list = [0.0001, 0.1, 0.5, 0.9]\n",
        "def get_derivative(lr):\n",
        "\n",
        "    w_old = 2\n",
        "    derivative = [w_old]\n",
        "\n",
        "    y = [w_old ** 2]\n",
        "\n",
        "    for i in range(1, 10):\n",
        "        dev_value = w_old * 2\n",
        "\n",
        "        w_new = w_old - lr * dev_value\n",
        "        w_old = w_new\n",
        "\n",
        "        derivative.append(w_old)\n",
        "        y.append(w_old ** 2)\n",
        "    return derivative, y\n",
        "x = np.linspace(-2, 2, 50)\n",
        "x_square = [i ** 2 for i in x]\n",
        "fig = plt.figure(figsize = (12, 7))\n",
        "for i, lr in enumerate(lr_list):\n",
        "    derivative, y = get_derivative(lr)\n",
        "    ax = fig.add_subplot(2, 2, i + 1)\n",
        "    ax.scatter(derivative, y, color= 'red')\n",
        "    ax.plot(x, x_square)\n",
        "    ax.title.set_text('lr =' + str(lr))\n",
        "plt.show()"
      ],
      "execution_count": null,
      "outputs": []
    }
  ]
}